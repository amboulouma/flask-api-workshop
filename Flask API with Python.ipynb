{
 "cells": [
  {
   "cell_type": "markdown",
   "metadata": {},
   "source": [
    "# Flask API Workshop\n",
    "Hosted by Amine M. Boulouma, contact and questions: [amine.boulouma.com](https://amine.boulouma.com)\n",
    "- [Learn FLASK API with Python in 25 minutes (workshop)](https://www.youtube.com/watch?v=ma3BC8aPBfE&t=479s)\n",
    "- [Source code](https://github.com/amboulouma/flask-api-workshop)"
   ]
  },
  {
   "cell_type": "markdown",
   "metadata": {},
   "source": [
    "## Install flask\n",
    "```pip install flask```\n"
   ]
  },
  {
   "cell_type": "markdown",
   "metadata": {},
   "source": [
    "The flask.Flask object is a WSGI application, not a server. Flask uses Werkzeug's development server as a WSGI server when you call python -m flask run in your shell. It creates a new WSGI server and then passes your app as paremeter to werkzeug.serving.run_simple. Maybe you can try doing that manually:\n",
    "Learn more about it: https://stackoverflow.com/questions/41831929/debug-flask-server-inside-jupyter-notebook/41833123"
   ]
  },
  {
   "cell_type": "markdown",
   "metadata": {},
   "source": [
    "### Import WSGI Configuration for Jupyter Notebook"
   ]
  },
  {
   "cell_type": "code",
   "execution_count": 2,
   "metadata": {},
   "outputs": [],
   "source": [
    "from werkzeug.wrappers import Request, Response\n",
    "from werkzeug.serving import run_simple"
   ]
  },
  {
   "cell_type": "markdown",
   "metadata": {},
   "source": [
    "### Import and configure Flask"
   ]
  },
  {
   "cell_type": "code",
   "execution_count": 3,
   "metadata": {},
   "outputs": [],
   "source": [
    "import flask\n",
    "from flask import request, jsonify\n",
    "\n",
    "app = flask.Flask(__name__)\n",
    "app.config[\"DEBUG\"] = True"
   ]
  },
  {
   "cell_type": "markdown",
   "metadata": {},
   "source": [
    "### Root route"
   ]
  },
  {
   "cell_type": "code",
   "execution_count": 4,
   "metadata": {},
   "outputs": [],
   "source": [
    "@app.route('/', methods=['GET'])\n",
    "def home():\n",
    "    return \"\"\"<h1>Distant Reading Archive</h1>\n",
    "\n",
    "            <p>This site is a prototype API for distant reading of science fiction novels.</p>\"\"\""
   ]
  },
  {
   "cell_type": "markdown",
   "metadata": {},
   "source": [
    "If on Jupyter Notebook you must run the code below to avoir any server running issues:"
   ]
  },
  {
   "cell_type": "code",
   "execution_count": 5,
   "metadata": {},
   "outputs": [],
   "source": [
    "# run_simple('localhost', 5000, app)"
   ]
  },
  {
   "cell_type": "markdown",
   "metadata": {},
   "source": [
    "Flask.run() calls run_simple() internally, so there should be no difference here."
   ]
  },
  {
   "cell_type": "markdown",
   "metadata": {},
   "source": [
    "If not on Jupyter Notebook you can run just this:\n",
    "\n",
    "```app.run()```"
   ]
  },
  {
   "cell_type": "markdown",
   "metadata": {},
   "source": [
    "### Catalog Data"
   ]
  },
  {
   "cell_type": "code",
   "execution_count": 6,
   "metadata": {},
   "outputs": [],
   "source": [
    "books = [\n",
    "    {'id': 0,\n",
    "     'title': 'A Fire Upon the Deep',\n",
    "     'author': 'Vernor Vinge',\n",
    "     'first_sentence': 'The coldsleep itself was dreamless.',\n",
    "     'year_published': '1992'},\n",
    "    {'id': 1,\n",
    "     'title': 'The Ones Who Walk Away From Omelas',\n",
    "     'author': 'Ursula K. Le Guin',\n",
    "     'first_sentence': 'With a clamor of bells that set the swallows soaring, the Festival of Summer came to the city Omelas, bright-towered by the sea.',\n",
    "     'published': '1973'},\n",
    "    {'id': 2,\n",
    "     'title': 'Dhalgren',\n",
    "     'author': 'Samuel R. Delany',\n",
    "     'first_sentence': 'to wound the autumnal city.',\n",
    "     'published': '1975'}\n",
    "]"
   ]
  },
  {
   "cell_type": "code",
   "execution_count": 7,
   "metadata": {
    "scrolled": true
   },
   "outputs": [],
   "source": [
    "@app.route('/books/all', methods=['GET'])\n",
    "def api_all():\n",
    "    return jsonify(books)"
   ]
  },
  {
   "cell_type": "code",
   "execution_count": null,
   "metadata": {},
   "outputs": [
    {
     "name": "stderr",
     "output_type": "stream",
     "text": [
      " * Running on http://localhost:5000/ (Press CTRL+C to quit)\n"
     ]
    }
   ],
   "source": [
    "run_simple('localhost', 5000, app)"
   ]
  }
 ],
 "metadata": {
  "kernelspec": {
   "display_name": "Python 3",
   "language": "python",
   "name": "python3"
  }
 },
 "nbformat": 4,
 "nbformat_minor": 4
}
